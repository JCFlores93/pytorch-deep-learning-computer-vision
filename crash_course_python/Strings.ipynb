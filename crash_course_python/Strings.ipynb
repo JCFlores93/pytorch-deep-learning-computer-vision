{
 "cells": [
  {
   "cell_type": "code",
   "execution_count": 1,
   "metadata": {},
   "outputs": [
    {
     "name": "stdout",
     "output_type": "stream",
     "text": [
      "Ameer\n",
      "<class 'str'>\n"
     ]
    }
   ],
   "source": [
    "name = 'Ameer'\n",
    "print(name)\n",
    "print(type(name))"
   ]
  },
  {
   "cell_type": "code",
   "execution_count": 4,
   "metadata": {},
   "outputs": [
    {
     "name": "stdout",
     "output_type": "stream",
     "text": [
      "Ameer said \"Hello John\", to which John replied, \"Hello Ameer\"\n"
     ]
    }
   ],
   "source": [
    "dialogue =  'Ameer said \"Hello John\", to which John replied, \"Hello Ameer\"'\n",
    "print(dialogue)"
   ]
  },
  {
   "cell_type": "code",
   "execution_count": 5,
   "metadata": {},
   "outputs": [
    {
     "name": "stdout",
     "output_type": "stream",
     "text": [
      "Ameer said \"Hello John\", to which John replied, \"you're the best\"\n"
     ]
    }
   ],
   "source": [
    "dialogue =  'Ameer said \"Hello John\", to which John replied, \"you\\'re the best\"'\n",
    "print(dialogue)"
   ]
  },
  {
   "cell_type": "code",
   "execution_count": 9,
   "metadata": {},
   "outputs": [
    {
     "name": "stdout",
     "output_type": "stream",
     "text": [
      "I'am 25 years old\n",
      "I'am 25 years oldI'am 25 years oldI'am 25 years oldI'am 25 years oldI'am 25 years oldI'am 25 years oldI'am 25 years oldI'am 25 years oldI'am 25 years oldI'am 25 years old\n",
      "170\n"
     ]
    }
   ],
   "source": [
    "segment_one = 'I\\'am 25'\n",
    "segment_two = 'years old'\n",
    "full_sentence = segment_one + \" \" + segment_two\n",
    "log_sentence = full_sentence*10\n",
    "print(full_sentence)\n",
    "print(log_sentence)\n",
    "print(len(log_sentence))"
   ]
  },
  {
   "cell_type": "code",
   "execution_count": null,
   "metadata": {},
   "outputs": [],
   "source": []
  },
  {
   "cell_type": "code",
   "execution_count": null,
   "metadata": {},
   "outputs": [],
   "source": []
  },
  {
   "cell_type": "code",
   "execution_count": null,
   "metadata": {},
   "outputs": [],
   "source": []
  },
  {
   "cell_type": "code",
   "execution_count": null,
   "metadata": {},
   "outputs": [],
   "source": []
  },
  {
   "cell_type": "code",
   "execution_count": null,
   "metadata": {},
   "outputs": [],
   "source": []
  }
 ],
 "metadata": {
  "kernelspec": {
   "display_name": "Python 3",
   "language": "python",
   "name": "python3"
  },
  "language_info": {
   "codemirror_mode": {
    "name": "ipython",
    "version": 3
   },
   "file_extension": ".py",
   "mimetype": "text/x-python",
   "name": "python",
   "nbconvert_exporter": "python",
   "pygments_lexer": "ipython3",
   "version": "3.7.3"
  }
 },
 "nbformat": 4,
 "nbformat_minor": 2
}
