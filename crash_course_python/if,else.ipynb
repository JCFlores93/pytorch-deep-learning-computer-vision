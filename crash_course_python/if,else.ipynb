{
 "cells": [
  {
   "cell_type": "code",
   "execution_count": 1,
   "metadata": {},
   "outputs": [],
   "source": [
    "grocery_items = {'bananas': 1.29, 'apples': 2.99, 'papayas': 1.39}"
   ]
  },
  {
   "cell_type": "code",
   "execution_count": 7,
   "metadata": {},
   "outputs": [
    {
     "name": "stdout",
     "output_type": "stream",
     "text": [
      "to expensive for inventory\n"
     ]
    }
   ],
   "source": [
    "item, price = 'rutabagas', 3.99\n",
    "if item in grocery_items:\n",
    "    print('found the', item)\n",
    "elif price > 2.99: \n",
    "    print('to expensive for inventory')\n",
    "else:\n",
    "    print('could not find the', item)\n",
    "    grocery_items.update({item:2.99})\n",
    "    print('just added the item, here is the updated grocery list', grocery_items)"
   ]
  },
  {
   "cell_type": "code",
   "execution_count": null,
   "metadata": {},
   "outputs": [],
   "source": []
  },
  {
   "cell_type": "code",
   "execution_count": null,
   "metadata": {},
   "outputs": [],
   "source": []
  }
 ],
 "metadata": {
  "kernelspec": {
   "display_name": "Python 3",
   "language": "python",
   "name": "python3"
  },
  "language_info": {
   "codemirror_mode": {
    "name": "ipython",
    "version": 3
   },
   "file_extension": ".py",
   "mimetype": "text/x-python",
   "name": "python",
   "nbconvert_exporter": "python",
   "pygments_lexer": "ipython3",
   "version": "3.7.3"
  }
 },
 "nbformat": 4,
 "nbformat_minor": 2
}
