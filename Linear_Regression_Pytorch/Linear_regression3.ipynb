{
 "cells": [
  {
   "cell_type": "code",
   "execution_count": 1,
   "metadata": {},
   "outputs": [],
   "source": [
    "import torch\n",
    "import torch.nn as nn\n",
    "import matplotlib.pyplot as plt\n",
    "import numpy as np"
   ]
  },
  {
   "cell_type": "code",
   "execution_count": 2,
   "metadata": {},
   "outputs": [
    {
     "name": "stdout",
     "output_type": "stream",
     "text": [
      "tensor([[  1.6510],\n",
      "        [ -0.4895],\n",
      "        [ -9.7466],\n",
      "        [ -1.1859],\n",
      "        [  5.8297],\n",
      "        [ 18.3585],\n",
      "        [ -1.3905],\n",
      "        [ -5.9576],\n",
      "        [ 26.3894],\n",
      "        [ 10.1816],\n",
      "        [  1.9523],\n",
      "        [-16.3237],\n",
      "        [ -7.5097],\n",
      "        [ 10.6493],\n",
      "        [ 11.3061],\n",
      "        [ -1.8639],\n",
      "        [  2.3074],\n",
      "        [  5.9142],\n",
      "        [ -7.3121],\n",
      "        [  3.2989],\n",
      "        [ -8.9850],\n",
      "        [-11.2994],\n",
      "        [ -1.2274],\n",
      "        [  6.6915],\n",
      "        [-13.1592],\n",
      "        [ 13.8029],\n",
      "        [  9.2148],\n",
      "        [  0.4915],\n",
      "        [  3.5447],\n",
      "        [  8.8935],\n",
      "        [ -3.7257],\n",
      "        [-14.7124],\n",
      "        [  4.9047],\n",
      "        [ -0.0790],\n",
      "        [  8.3314],\n",
      "        [ -2.2483],\n",
      "        [  9.7514],\n",
      "        [ 18.8085],\n",
      "        [  9.4159],\n",
      "        [  1.1689],\n",
      "        [ -6.7329],\n",
      "        [ 10.9504],\n",
      "        [  1.4730],\n",
      "        [-18.4439],\n",
      "        [ -7.2114],\n",
      "        [  9.3959],\n",
      "        [ 14.9565],\n",
      "        [  7.1558],\n",
      "        [ -2.3211],\n",
      "        [  7.5590],\n",
      "        [  3.6002],\n",
      "        [  3.9842],\n",
      "        [ -7.3473],\n",
      "        [  8.5870],\n",
      "        [  3.5766],\n",
      "        [ 15.0379],\n",
      "        [  5.3327],\n",
      "        [  5.1247],\n",
      "        [  6.1581],\n",
      "        [ 12.1479],\n",
      "        [-11.7804],\n",
      "        [  9.7586],\n",
      "        [  6.4174],\n",
      "        [ -2.0628],\n",
      "        [ -5.1162],\n",
      "        [ -0.4109],\n",
      "        [  5.0819],\n",
      "        [  8.1855],\n",
      "        [  1.8759],\n",
      "        [  1.2697],\n",
      "        [-23.1497],\n",
      "        [  7.4340],\n",
      "        [  0.5619],\n",
      "        [ -0.6802],\n",
      "        [ -8.4711],\n",
      "        [  8.5379],\n",
      "        [  3.4775],\n",
      "        [-24.8521],\n",
      "        [ -6.4191],\n",
      "        [ -3.8925],\n",
      "        [  8.9750],\n",
      "        [  5.1067],\n",
      "        [ -2.0433],\n",
      "        [  4.2199],\n",
      "        [ -4.4046],\n",
      "        [  0.2907],\n",
      "        [  9.8760],\n",
      "        [-18.5201],\n",
      "        [ 13.1506],\n",
      "        [-10.5358],\n",
      "        [-17.6629],\n",
      "        [  9.2717],\n",
      "        [  1.5067],\n",
      "        [-10.6418],\n",
      "        [ -7.2141],\n",
      "        [ -0.4626],\n",
      "        [ -1.7019],\n",
      "        [ 11.2853],\n",
      "        [  2.9429],\n",
      "        [ -5.5178]])\n"
     ]
    },
    {
     "data": {
      "text/plain": [
       "[<matplotlib.lines.Line2D at 0x7f52c8cbf278>]"
      ]
     },
     "execution_count": 2,
     "metadata": {},
     "output_type": "execute_result"
    },
    {
     "data": {
      "image/png": "[encoded data removed]",
      "text/plain": [
       "<Figure size 432x288 with 1 Axes>"
      ]
     },
     "metadata": {
      "needs_background": "light"
     },
     "output_type": "display_data"
    }
   ],
   "source": [
    "X = torch.randn(100, 1) * 10\n",
    "y = X + 3*torch.randn(100, 1)\n",
    "print(X)\n",
    "plt.plot(X.numpy(), y.numpy(), 'o')"
   ]
  },
  {
   "cell_type": "code",
   "execution_count": 3,
   "metadata": {},
   "outputs": [],
   "source": [
    "class LR(nn.Module):\n",
    "    def __init__(self, input_size, output_size):\n",
    "        super().__init__()\n",
    "        self.linear = nn.Linear(input_size, output_size)\n",
    "    def forward(self, x):\n",
    "        pred = self.linear(x)\n",
    "        return pred"
   ]
  },
  {
   "cell_type": "code",
   "execution_count": 4,
   "metadata": {},
   "outputs": [
    {
     "name": "stdout",
     "output_type": "stream",
     "text": [
      "LR(\n",
      "  (linear): Linear(in_features=1, out_features=1, bias=True)\n",
      ")\n"
     ]
    }
   ],
   "source": [
    "torch.manual_seed(1)\n",
    "model = LR(1, 1)\n",
    "print(model)"
   ]
  },
  {
   "cell_type": "code",
   "execution_count": 5,
   "metadata": {},
   "outputs": [],
   "source": [
    "[w, b] = model.parameters()\n",
    "def get_params():\n",
    "    return (w[0][0].item(), b[0].item())"
   ]
  },
  {
   "cell_type": "code",
   "execution_count": 6,
   "metadata": {},
   "outputs": [],
   "source": [
    "def plot_fit(title):\n",
    "    plt.title = title\n",
    "    w1, b1 = get_params()\n",
    "    x1 = np.array([-30, 30])\n",
    "    y1 = w1*x1 + b1\n",
    "    plt.plot(x1, y1, 'r')\n",
    "    plt.scatter(X, y)\n",
    "    plt.show()"
   ]
  },
  {
   "cell_type": "code",
   "execution_count": 7,
   "metadata": {},
   "outputs": [
    {
     "data": {
      "image/png": "[encoded data removed]",
      "text/plain": [
       "<Figure size 432x288 with 1 Axes>"
      ]
     },
     "metadata": {
      "needs_background": "light"
     },
     "output_type": "display_data"
    }
   ],
   "source": [
    "plot_fit('Initial Model')"
   ]
  }
 ],
 "metadata": {
  "kernelspec": {
   "display_name": "Python 3",
   "language": "python",
   "name": "python3"
  },
  "language_info": {
   "codemirror_mode": {
    "name": "ipython",
    "version": 3
   },
   "file_extension": ".py",
   "mimetype": "text/x-python",
   "name": "python",
   "nbconvert_exporter": "python",
   "pygments_lexer": "ipython3",
   "version": "3.7.3"
  }
 },
 "nbformat": 4,
 "nbformat_minor": 2
}
