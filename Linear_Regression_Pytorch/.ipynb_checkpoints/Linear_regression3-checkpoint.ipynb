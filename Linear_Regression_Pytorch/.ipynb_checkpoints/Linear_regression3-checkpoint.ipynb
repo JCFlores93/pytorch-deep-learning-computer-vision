{
 "cells": [
  {
   "cell_type": "code",
   "execution_count": 14,
   "metadata": {},
   "outputs": [],
   "source": [
    "import torch\n",
    "import torch.nn as nn\n",
    "import matplotlib.pyplot as plt\n",
    "import numpy as np"
   ]
  },
  {
   "cell_type": "code",
   "execution_count": 19,
   "metadata": {},
   "outputs": [
    {
     "name": "stdout",
     "output_type": "stream",
     "text": [
      "tensor([[ -8.9532],\n",
      "        [ 14.1480],\n",
      "        [ -0.1246],\n",
      "        [ -3.3329],\n",
      "        [ -5.2900],\n",
      "        [ 18.2097],\n",
      "        [-12.9906],\n",
      "        [-14.4901],\n",
      "        [  2.2036],\n",
      "        [-19.5477],\n",
      "        [-14.0559],\n",
      "        [ -4.8797],\n",
      "        [  4.7066],\n",
      "        [ -2.0690],\n",
      "        [ -9.5864],\n",
      "        [ 15.2387],\n",
      "        [  2.9385],\n",
      "        [ 30.3014],\n",
      "        [  4.8792],\n",
      "        [ -3.0865],\n",
      "        [-30.1377],\n",
      "        [-12.4819],\n",
      "        [ -4.7933],\n",
      "        [ -1.9467],\n",
      "        [-11.2770],\n",
      "        [ -5.9944],\n",
      "        [ 18.3728],\n",
      "        [-10.7147],\n",
      "        [ -4.0549],\n",
      "        [  9.9240],\n",
      "        [  5.5031],\n",
      "        [ -2.3263],\n",
      "        [  9.1872],\n",
      "        [-17.0542],\n",
      "        [  6.6506],\n",
      "        [ 16.0321],\n",
      "        [-18.1608],\n",
      "        [  8.7348],\n",
      "        [-10.4972],\n",
      "        [  8.3407],\n",
      "        [-10.1998],\n",
      "        [ -8.5336],\n",
      "        [-13.6222],\n",
      "        [ -1.7370],\n",
      "        [ 15.3784],\n",
      "        [-11.7024],\n",
      "        [  7.7830],\n",
      "        [ -2.6398],\n",
      "        [ 20.8395],\n",
      "        [  2.8445],\n",
      "        [-11.6476],\n",
      "        [ -4.3749],\n",
      "        [  5.8088],\n",
      "        [  8.3936],\n",
      "        [  4.8905],\n",
      "        [ -1.5928],\n",
      "        [  3.7047],\n",
      "        [  8.3229],\n",
      "        [  3.2043],\n",
      "        [  6.8570],\n",
      "        [ -6.0794],\n",
      "        [ -5.5948],\n",
      "        [-10.6468],\n",
      "        [ -8.7338],\n",
      "        [  1.9276],\n",
      "        [  9.4459],\n",
      "        [ -0.3641],\n",
      "        [  9.0304],\n",
      "        [ -5.4764],\n",
      "        [ -8.6845],\n",
      "        [  4.1864],\n",
      "        [  7.1874],\n",
      "        [  4.2617],\n",
      "        [ 25.0726],\n",
      "        [  3.4805],\n",
      "        [ -0.4822],\n",
      "        [  1.4369],\n",
      "        [-12.3427],\n",
      "        [  0.0962],\n",
      "        [ -2.6102],\n",
      "        [ -2.0758],\n",
      "        [ -2.7202],\n",
      "        [ 18.7825],\n",
      "        [ -7.9559],\n",
      "        [ -0.5761],\n",
      "        [  3.3120],\n",
      "        [ 10.3528],\n",
      "        [ -1.6316],\n",
      "        [  2.5800],\n",
      "        [  8.2731],\n",
      "        [ -2.4230],\n",
      "        [ -1.8000],\n",
      "        [ -5.6789],\n",
      "        [  7.1993],\n",
      "        [  7.5565],\n",
      "        [  1.7704],\n",
      "        [ 14.3300],\n",
      "        [  0.7244],\n",
      "        [ -7.7046],\n",
      "        [  4.5659]])\n"
     ]
    },
    {
     "data": {
      "text/plain": [
       "[<matplotlib.lines.Line2D at 0x7fe30f4de6a0>]"
      ]
     },
     "execution_count": 19,
     "metadata": {},
     "output_type": "execute_result"
    },
    {
     "data": {
      "image/png": "[encoded data removed]",
      "text/plain": [
       "<Figure size 432x288 with 1 Axes>"
      ]
     },
     "metadata": {
      "needs_background": "light"
     },
     "output_type": "display_data"
    }
   ],
   "source": [
    "X = torch.randn(100, 1) * 10\n",
    "y = X + 3*torch.randn(100, 1)\n",
    "print(X)\n",
    "plt.plot(X.numpy(), y.numpy(), 'o')"
   ]
  },
  {
   "cell_type": "code",
   "execution_count": 20,
   "metadata": {},
   "outputs": [],
   "source": [
    "class LR(nn.Module):\n",
    "    def __init__(self, input_size, output_size):\n",
    "        super().__init__()\n",
    "        self.linear = nn.Linear(input_size, output_size)\n",
    "    def forward(self, x):\n",
    "        pred = self.linear(x)\n",
    "        return pred"
   ]
  },
  {
   "cell_type": "code",
   "execution_count": 21,
   "metadata": {},
   "outputs": [
    {
     "name": "stdout",
     "output_type": "stream",
     "text": [
      "LR(\n",
      "  (linear): Linear(in_features=1, out_features=1, bias=True)\n",
      ")\n"
     ]
    }
   ],
   "source": [
    "torch.manual_seed(1)\n",
    "model = LR(1, 1)\n",
    "print(model)"
   ]
  },
  {
   "cell_type": "code",
   "execution_count": 24,
   "metadata": {},
   "outputs": [
    {
     "name": "stdout",
     "output_type": "stream",
     "text": [
      "Parameter containing:\n",
      "tensor([[0.5153]], requires_grad=True) Parameter containing:\n",
      "tensor([-0.4414], requires_grad=True)\n",
      "0.5152631998062134 -0.44137823581695557\n"
     ]
    }
   ],
   "source": [
    "[w, b] = model.parameters()\n",
    "def get_params():\n",
    "    return (w1 = w[0][0].item(), b1 = b[0].item())"
   ]
  },
  {
   "cell_type": "code",
   "execution_count": null,
   "metadata": {},
   "outputs": [],
   "source": [
    "def plot_fit(title):\n",
    "    plt.title = title\n",
    "    w1, b1 = get_params()\n",
    "    x1 = np.array([-30, 30])\n",
    "    y1 = w1*x1 + b1\n",
    "    plt.plot(x1, y1, 'r')"
   ]
  }
 ],
 "metadata": {
  "kernelspec": {
   "display_name": "Python 3",
   "language": "python",
   "name": "python3"
  },
  "language_info": {
   "codemirror_mode": {
    "name": "ipython",
    "version": 3
   },
   "file_extension": ".py",
   "mimetype": "text/x-python",
   "name": "python",
   "nbconvert_exporter": "python",
   "pygments_lexer": "ipython3",
   "version": "3.7.3"
  }
 },
 "nbformat": 4,
 "nbformat_minor": 2
}
